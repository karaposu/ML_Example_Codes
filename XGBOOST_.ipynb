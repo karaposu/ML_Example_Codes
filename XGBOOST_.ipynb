{
  "nbformat": 4,
  "nbformat_minor": 0,
  "metadata": {
    "colab": {
      "name": "XGBOOST .ipynb",
      "provenance": [],
      "collapsed_sections": []
    },
    "kernelspec": {
      "name": "python3",
      "display_name": "Python 3"
    },
    "language_info": {
      "name": "python"
    }
  },
  "cells": [
    {
      "cell_type": "code",
      "metadata": {
        "id": "eV3sqFV2Xiv2",
        "colab": {
          "base_uri": "https://localhost:8080/"
        },
        "outputId": "bfa18a81-d2fb-46a0-f8af-2db07a22d02d"
      },
      "source": [
        "!git clone https://github.com/karaposu/ML_Example_Codes.git\n",
        "\n",
        "! cp  /content/ML_Example_Codes/pima-indians-diabetes.csv . \n",
        "\n",
        "from numpy import loadtxt\n",
        "from xgboost import XGBClassifier\n",
        "from sklearn.model_selection import train_test_split\n",
        "from sklearn.metrics import accuracy_score"
      ],
      "execution_count": 3,
      "outputs": [
        {
          "output_type": "stream",
          "name": "stdout",
          "text": [
            "fatal: destination path 'ML_Example_Codes' already exists and is not an empty directory.\n"
          ]
        }
      ]
    },
    {
      "cell_type": "code",
      "metadata": {
        "colab": {
          "base_uri": "https://localhost:8080/"
        },
        "id": "egIJM2XAllWg",
        "outputId": "79316cb6-f9d0-4906-aa0e-50d8c756e054"
      },
      "source": [
        "# First XGBoost model for Pima Indians dataset\n",
        "\n",
        "# load data\n",
        "dataset = loadtxt('pima-indians-diabetes.csv', delimiter=\",\")\n",
        "# split data into X and y\n",
        "X = dataset[:,0:8]\n",
        "Y = dataset[:,8]\n",
        "\n",
        "print(\"Y.shape:\", Y.shape)\n",
        "print(\"X.shape:\", X.shape)\n",
        "\n",
        "\n",
        "# split data into train and test sets\n",
        "seed = 7\n",
        "test_size = 0.33\n",
        "X_train, X_test, y_train, y_test = train_test_split(X, Y, test_size=test_size, random_state=seed)\n",
        "\n",
        "\n",
        "\n",
        "\n",
        "print(\"X_train.shape:\", X_train.shape)\n",
        "print(\"X_test.shape:\", X_test.shape)"
      ],
      "execution_count": 18,
      "outputs": [
        {
          "output_type": "stream",
          "name": "stdout",
          "text": [
            "Y.shape: (768,)\n",
            "X.shape: (768, 8)\n",
            "X_train.shape: (514, 8)\n",
            "X_test.shape: (254, 8)\n"
          ]
        }
      ]
    },
    {
      "cell_type": "code",
      "metadata": {
        "colab": {
          "base_uri": "https://localhost:8080/"
        },
        "id": "keS_0tsoTUNm",
        "outputId": "405c1c35-5905-4554-c28a-5988eb9e8382"
      },
      "source": [
        "\n",
        "# fit model no training data\n",
        "model = XGBClassifier()\n",
        "model.fit(X_train, y_train)\n",
        "# make predictions for test data\n",
        "y_pred = model.predict(X_test)\n",
        "\n",
        "\n",
        "predictions = y_pred.astype(int)\n",
        "# predictions = [round(value) for value in y_pred]\n",
        "\n",
        "print(predictions)\n",
        "# evaluate predictions\n",
        "accuracy = accuracy_score(y_test, predictions)\n",
        "print(\"Accuracy: %.2f%%\" % (accuracy * 100.0))"
      ],
      "execution_count": 24,
      "outputs": [
        {
          "output_type": "stream",
          "name": "stdout",
          "text": [
            "[0 1 1 0 1 1 0 0 1 0 1 0 1 1 0 0 0 1 0 0 0 0 1 1 0 0 0 0 0 1 1 0 0 0 0 1 1\n",
            " 0 1 0 1 1 1 0 0 0 1 0 0 1 0 0 0 0 0 0 0 0 0 0 0 0 0 1 1 1 0 1 1 1 1 1 0 0\n",
            " 0 0 0 0 0 0 0 0 0 0 0 0 1 0 1 0 1 0 1 0 0 1 1 0 1 0 1 0 0 0 0 1 0 0 0 1 0\n",
            " 1 0 0 1 1 0 0 0 1 0 0 0 0 0 1 0 0 0 0 0 1 0 0 0 0 0 0 0 1 0 1 0 0 0 0 0 0\n",
            " 1 0 0 1 0 0 0 0 1 0 1 0 0 0 0 0 1 0 1 0 0 1 0 1 0 0 1 0 1 0 1 0 1 0 0 0 0\n",
            " 0 0 0 0 1 1 0 1 1 0 0 1 0 0 1 0 1 1 1 0 0 1 0 0 0 1 1 0 1 0 0 0 1 0 0 0 0\n",
            " 1 0 1 1 1 1 1 0 0 1 0 0 0 0 0 1 0 0 1 1 0 0 1 0 1 0 0 0 0 1 1 1]\n",
            "Accuracy: 77.95%\n"
          ]
        }
      ]
    }
  ]
}